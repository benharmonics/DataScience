{
 "cells": [
  {
   "cell_type": "markdown",
   "id": "578a8e5a-44ea-42cb-8722-c1784fb2aa16",
   "metadata": {},
   "source": [
    "# Predicting Churn\n",
    "\n",
    "<hr>\n",
    "\n",
    "## Logistic Regression"
   ]
  },
  {
   "cell_type": "code",
   "execution_count": 1,
   "id": "116058d1-f6e4-4c90-8b31-f598cbf12a22",
   "metadata": {},
   "outputs": [],
   "source": [
    "import pandas as pd\n",
    "\n",
    "from sklearn import preprocessing\n",
    "from sklearn.linear_model import LogisticRegression\n",
    "from sklearn.model_selection import train_test_split"
   ]
  },
  {
   "cell_type": "code",
   "execution_count": 2,
   "id": "a6a9dd3d-6747-47d8-8b79-bc3fa27073fa",
   "metadata": {},
   "outputs": [],
   "source": [
    "df = pd.read_csv('telco-customer-churn.csv')"
   ]
  },
  {
   "cell_type": "code",
   "execution_count": 3,
   "id": "d9c037cf-358a-4d4e-b6b8-efec201985b2",
   "metadata": {},
   "outputs": [],
   "source": [
    "df.dropna()\n",
    "df.drop('customerID', axis=1, inplace=True)"
   ]
  },
  {
   "cell_type": "markdown",
   "id": "1b3ad244-cea2-45cc-adfc-9f30c8f808ff",
   "metadata": {},
   "source": [
    "Let's preprocess our columns with binary answers first because we can utilize the `drop_first` keyword in `get_dummies`."
   ]
  },
  {
   "cell_type": "code",
   "execution_count": 4,
   "id": "cbb57861-288a-412f-ab12-ef4e42267f8d",
   "metadata": {},
   "outputs": [],
   "source": [
    "binary_cols = [col for col in df.columns if len(df.value_counts(col)) == 2]"
   ]
  },
  {
   "cell_type": "code",
   "execution_count": 5,
   "id": "6e1c6edf-3c31-4cff-ac62-bd761fbeaf0b",
   "metadata": {},
   "outputs": [],
   "source": [
    "data_binaries = pd.get_dummies(df[binary_cols], drop_first=True)"
   ]
  },
  {
   "cell_type": "code",
   "execution_count": 6,
   "id": "c51c9ac1-5adc-4ec4-b13d-8034097e7f75",
   "metadata": {},
   "outputs": [
    {
     "data": {
      "text/plain": [
       "Index(['SeniorCitizen', 'gender_Male', 'Partner_Yes', 'Dependents_Yes',\n",
       "       'PhoneService_Yes', 'PaperlessBilling_Yes', 'Churn_Yes'],\n",
       "      dtype='object')"
      ]
     },
     "execution_count": 6,
     "metadata": {},
     "output_type": "execute_result"
    }
   ],
   "source": [
    "data_binaries.columns"
   ]
  },
  {
   "cell_type": "markdown",
   "id": "289273fe-35d4-4866-9872-b7827c0842d8",
   "metadata": {},
   "source": [
    "Now every other interesting column"
   ]
  },
  {
   "cell_type": "code",
   "execution_count": 7,
   "id": "072e2090-cf80-43ee-9b1b-f141dcc8390d",
   "metadata": {},
   "outputs": [
    {
     "data": {
      "text/plain": [
       "Index(['gender', 'SeniorCitizen', 'Partner', 'Dependents', 'tenure',\n",
       "       'PhoneService', 'MultipleLines', 'InternetService', 'OnlineSecurity',\n",
       "       'OnlineBackup', 'DeviceProtection', 'TechSupport', 'StreamingTV',\n",
       "       'StreamingMovies', 'Contract', 'PaperlessBilling', 'PaymentMethod',\n",
       "       'MonthlyCharges', 'TotalCharges', 'Churn'],\n",
       "      dtype='object')"
      ]
     },
     "execution_count": 7,
     "metadata": {},
     "output_type": "execute_result"
    }
   ],
   "source": [
    "df.columns"
   ]
  },
  {
   "cell_type": "code",
   "execution_count": 8,
   "id": "28122874-f3af-4a38-8b06-faf46ab75bbc",
   "metadata": {},
   "outputs": [
    {
     "data": {
      "text/plain": [
       "OnlineBackup\n",
       "No                     3088\n",
       "Yes                    2429\n",
       "No internet service    1526\n",
       "dtype: int64"
      ]
     },
     "execution_count": 8,
     "metadata": {},
     "output_type": "execute_result"
    }
   ],
   "source": [
    "df.value_counts('OnlineBackup')"
   ]
  },
  {
   "cell_type": "code",
   "execution_count": 9,
   "id": "96ad119a-0a1f-4c37-8cae-363687121450",
   "metadata": {},
   "outputs": [],
   "source": [
    "other_cols = ['MultipleLines', 'InternetService', 'OnlineSecurity', 'DeviceProtection', 'TechSupport', \n",
    "              'Contract', 'OnlineBackup', 'PaymentMethod']"
   ]
  },
  {
   "cell_type": "code",
   "execution_count": 10,
   "id": "44330760-7687-4b98-b036-96d29304a02c",
   "metadata": {},
   "outputs": [],
   "source": [
    "data_cat = pd.get_dummies(df[other_cols])"
   ]
  },
  {
   "cell_type": "code",
   "execution_count": 11,
   "id": "1a97029c-d841-43bb-b163-4312560b1992",
   "metadata": {},
   "outputs": [],
   "source": [
    "data = pd.concat([data_cat, data_binaries], axis=1)"
   ]
  },
  {
   "cell_type": "code",
   "execution_count": 12,
   "id": "6fe34e18-4558-4be1-b96e-faa8bbb3f804",
   "metadata": {},
   "outputs": [
    {
     "data": {
      "text/plain": [
       "(7043, 32)"
      ]
     },
     "execution_count": 12,
     "metadata": {},
     "output_type": "execute_result"
    }
   ],
   "source": [
    "data.shape"
   ]
  },
  {
   "cell_type": "markdown",
   "id": "a1b665e3-6ab7-4438-8864-bff007be642d",
   "metadata": {},
   "source": [
    "First and last two column names:"
   ]
  },
  {
   "cell_type": "code",
   "execution_count": 13,
   "id": "a29678ca-f289-44ec-8ca6-613ce54ee821",
   "metadata": {},
   "outputs": [
    {
     "data": {
      "text/plain": [
       "Index(['MultipleLines_No', 'PaperlessBilling_Yes', 'Churn_Yes'], dtype='object')"
      ]
     },
     "execution_count": 13,
     "metadata": {},
     "output_type": "execute_result"
    }
   ],
   "source": [
    "data.columns[[0, -2, -1]]"
   ]
  },
  {
   "cell_type": "code",
   "execution_count": 14,
   "id": "8ad6c304-c3d9-4b45-9296-5431d7b4db3f",
   "metadata": {},
   "outputs": [],
   "source": [
    "x = data.loc[:, 'MultipleLines_No':'PaperlessBilling_Yes']\n",
    "y = data.loc[:, 'Churn_Yes']"
   ]
  },
  {
   "cell_type": "code",
   "execution_count": 15,
   "id": "4f18f10a-a5cb-4ff5-95c8-0305a125f8f9",
   "metadata": {},
   "outputs": [],
   "source": [
    "xtrain, xtest, ytrain, ytest = train_test_split(x, y)"
   ]
  },
  {
   "cell_type": "code",
   "execution_count": 16,
   "id": "3569203b-c46b-4445-9964-a8e7cdb0fdaf",
   "metadata": {},
   "outputs": [],
   "source": [
    "classifier = LogisticRegression(solver='lbfgs')"
   ]
  },
  {
   "cell_type": "code",
   "execution_count": 17,
   "id": "ae7d6eb7-6fb1-4066-9d21-8ea5c5e9f8a4",
   "metadata": {},
   "outputs": [
    {
     "data": {
      "text/plain": [
       "LogisticRegression()"
      ]
     },
     "execution_count": 17,
     "metadata": {},
     "output_type": "execute_result"
    }
   ],
   "source": [
    "classifier.fit(xtrain, ytrain)"
   ]
  },
  {
   "cell_type": "code",
   "execution_count": 18,
   "id": "a8ec4eb9-58f5-4a4b-b2ad-52ef04e47128",
   "metadata": {},
   "outputs": [
    {
     "data": {
      "text/plain": [
       "0.7830777967064169"
      ]
     },
     "execution_count": 18,
     "metadata": {},
     "output_type": "execute_result"
    }
   ],
   "source": [
    "classifier.score(xtest, ytest)"
   ]
  },
  {
   "cell_type": "code",
   "execution_count": null,
   "id": "e6201bcd-4683-4fd7-a999-8eef181d55de",
   "metadata": {},
   "outputs": [],
   "source": []
  }
 ],
 "metadata": {
  "kernelspec": {
   "display_name": "Python 3 (ipykernel)",
   "language": "python",
   "name": "python3"
  },
  "language_info": {
   "codemirror_mode": {
    "name": "ipython",
    "version": 3
   },
   "file_extension": ".py",
   "mimetype": "text/x-python",
   "name": "python",
   "nbconvert_exporter": "python",
   "pygments_lexer": "ipython3",
   "version": "3.10.2"
  }
 },
 "nbformat": 4,
 "nbformat_minor": 5
}
