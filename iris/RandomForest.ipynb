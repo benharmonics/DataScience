{
 "cells": [
  {
   "cell_type": "markdown",
   "id": "d323b76b-059c-4150-9945-18d9b33124fb",
   "metadata": {},
   "source": [
    "# Random Forest Classifiers\n",
    "---\n",
    "\n",
    "Using a Random Forest to make predictions about a categorical variable using numerical inputs."
   ]
  },
  {
   "cell_type": "markdown",
   "id": "21c5bd36-4769-4e8d-8a69-3b255eee4bd8",
   "metadata": {},
   "source": [
    "`scikit-learn` has the iris dataset if you need it."
   ]
  },
  {
   "cell_type": "code",
   "execution_count": 1,
   "id": "a3855f76-6564-4a73-b310-d1490b828fea",
   "metadata": {},
   "outputs": [],
   "source": [
    "from sklearn import datasets"
   ]
  },
  {
   "cell_type": "code",
   "execution_count": 2,
   "id": "8347b3b9-6a0b-4fee-be11-441b06f6ecae",
   "metadata": {},
   "outputs": [],
   "source": [
    "iris = datasets.load_iris()"
   ]
  },
  {
   "cell_type": "markdown",
   "id": "5f2c5d51-ff2a-4eb1-9a12-c40e2cd66f3e",
   "metadata": {},
   "source": [
    "Check it out:"
   ]
  },
  {
   "cell_type": "code",
   "execution_count": 3,
   "id": "54f3ddc4-f35c-4e5f-b4d4-959c514edcca",
   "metadata": {},
   "outputs": [
    {
     "data": {
      "text/plain": [
       "array(['setosa', 'versicolor', 'virginica'], dtype='<U10')"
      ]
     },
     "execution_count": 3,
     "metadata": {},
     "output_type": "execute_result"
    }
   ],
   "source": [
    "iris.target_names"
   ]
  },
  {
   "cell_type": "code",
   "execution_count": 4,
   "id": "b1ef0d9b-e3d6-478d-bd01-a0eb914d502b",
   "metadata": {},
   "outputs": [
    {
     "data": {
      "text/plain": [
       "['sepal length (cm)',\n",
       " 'sepal width (cm)',\n",
       " 'petal length (cm)',\n",
       " 'petal width (cm)']"
      ]
     },
     "execution_count": 4,
     "metadata": {},
     "output_type": "execute_result"
    }
   ],
   "source": [
    "iris.feature_names"
   ]
  },
  {
   "cell_type": "markdown",
   "id": "02965c27-9b58-4d91-86f3-637b625b6084",
   "metadata": {},
   "source": [
    "We'll need `pandas` of course, as well as a classifier from `sklearn` and the `train_test_split` function."
   ]
  },
  {
   "cell_type": "code",
   "execution_count": 5,
   "id": "203c2bc8-3600-4879-8d0e-69b6ee50eb69",
   "metadata": {},
   "outputs": [],
   "source": [
    "import pandas as pd\n",
    "\n",
    "from sklearn.ensemble import RandomForestClassifier\n",
    "from sklearn.model_selection import train_test_split"
   ]
  },
  {
   "cell_type": "markdown",
   "id": "6a28968d-2e5b-4b7d-878d-66ebe16246da",
   "metadata": {},
   "source": [
    "So our `DataFrame` is"
   ]
  },
  {
   "cell_type": "code",
   "execution_count": 6,
   "id": "c850258f-a6f7-4b3a-9618-6641bcea0b23",
   "metadata": {},
   "outputs": [],
   "source": [
    "data = pd.DataFrame({\n",
    "    'sepal_length' : iris.data[:, 0],\n",
    "    'sepal_width' : iris.data[:, 1],\n",
    "    'petal_length' : iris.data[:, 2],\n",
    "    'petal_width' : iris.data[:, 3],\n",
    "    'species' : iris.target,\n",
    "})"
   ]
  },
  {
   "cell_type": "code",
   "execution_count": 7,
   "id": "15a3e27f-b27e-4ce4-8632-e3ba2eacd218",
   "metadata": {},
   "outputs": [
    {
     "data": {
      "text/html": [
       "<div>\n",
       "<style scoped>\n",
       "    .dataframe tbody tr th:only-of-type {\n",
       "        vertical-align: middle;\n",
       "    }\n",
       "\n",
       "    .dataframe tbody tr th {\n",
       "        vertical-align: top;\n",
       "    }\n",
       "\n",
       "    .dataframe thead th {\n",
       "        text-align: right;\n",
       "    }\n",
       "</style>\n",
       "<table border=\"1\" class=\"dataframe\">\n",
       "  <thead>\n",
       "    <tr style=\"text-align: right;\">\n",
       "      <th></th>\n",
       "      <th>sepal_length</th>\n",
       "      <th>sepal_width</th>\n",
       "      <th>petal_length</th>\n",
       "      <th>petal_width</th>\n",
       "      <th>species</th>\n",
       "    </tr>\n",
       "  </thead>\n",
       "  <tbody>\n",
       "    <tr>\n",
       "      <th>0</th>\n",
       "      <td>5.1</td>\n",
       "      <td>3.5</td>\n",
       "      <td>1.4</td>\n",
       "      <td>0.2</td>\n",
       "      <td>0</td>\n",
       "    </tr>\n",
       "    <tr>\n",
       "      <th>1</th>\n",
       "      <td>4.9</td>\n",
       "      <td>3.0</td>\n",
       "      <td>1.4</td>\n",
       "      <td>0.2</td>\n",
       "      <td>0</td>\n",
       "    </tr>\n",
       "    <tr>\n",
       "      <th>2</th>\n",
       "      <td>4.7</td>\n",
       "      <td>3.2</td>\n",
       "      <td>1.3</td>\n",
       "      <td>0.2</td>\n",
       "      <td>0</td>\n",
       "    </tr>\n",
       "    <tr>\n",
       "      <th>3</th>\n",
       "      <td>4.6</td>\n",
       "      <td>3.1</td>\n",
       "      <td>1.5</td>\n",
       "      <td>0.2</td>\n",
       "      <td>0</td>\n",
       "    </tr>\n",
       "    <tr>\n",
       "      <th>4</th>\n",
       "      <td>5.0</td>\n",
       "      <td>3.6</td>\n",
       "      <td>1.4</td>\n",
       "      <td>0.2</td>\n",
       "      <td>0</td>\n",
       "    </tr>\n",
       "  </tbody>\n",
       "</table>\n",
       "</div>"
      ],
      "text/plain": [
       "   sepal_length  sepal_width  petal_length  petal_width  species\n",
       "0           5.1          3.5           1.4          0.2        0\n",
       "1           4.9          3.0           1.4          0.2        0\n",
       "2           4.7          3.2           1.3          0.2        0\n",
       "3           4.6          3.1           1.5          0.2        0\n",
       "4           5.0          3.6           1.4          0.2        0"
      ]
     },
     "execution_count": 7,
     "metadata": {},
     "output_type": "execute_result"
    }
   ],
   "source": [
    "data.head()"
   ]
  },
  {
   "cell_type": "markdown",
   "id": "d4f17ce1-00dd-4c4f-8005-655d28ebd57c",
   "metadata": {},
   "source": [
    "Splitting features from target"
   ]
  },
  {
   "cell_type": "code",
   "execution_count": 8,
   "id": "bd573782-6539-469d-9d5e-13fedde7be91",
   "metadata": {},
   "outputs": [],
   "source": [
    "x = data.loc[:, :'petal_width']\n",
    "y = data.loc[:, 'species']"
   ]
  },
  {
   "cell_type": "markdown",
   "id": "e42832e7-54e3-4119-b2ed-a471d66c14b2",
   "metadata": {},
   "source": [
    "70/30 split into train/test data"
   ]
  },
  {
   "cell_type": "code",
   "execution_count": 9,
   "id": "ad19a555-35d3-4a65-b575-ef8a93cb5ae0",
   "metadata": {},
   "outputs": [],
   "source": [
    "xtrain, xtest, ytrain, ytest = train_test_split(x, y, test_size=0.3)"
   ]
  },
  {
   "cell_type": "markdown",
   "id": "6c8d861f-0151-402e-acfd-6121a8cc1697",
   "metadata": {},
   "source": [
    "Making and training our classifier on train data"
   ]
  },
  {
   "cell_type": "code",
   "execution_count": 10,
   "id": "9e73a85d-2cc2-4b6e-8da7-ddf46784f9da",
   "metadata": {},
   "outputs": [],
   "source": [
    "classifier = RandomForestClassifier(n_estimators=100)"
   ]
  },
  {
   "cell_type": "code",
   "execution_count": 11,
   "id": "5acc6672-1014-4cf9-a7a8-940934877a34",
   "metadata": {},
   "outputs": [
    {
     "data": {
      "text/plain": [
       "RandomForestClassifier()"
      ]
     },
     "execution_count": 11,
     "metadata": {},
     "output_type": "execute_result"
    }
   ],
   "source": [
    "classifier.fit(xtrain, ytrain)"
   ]
  },
  {
   "cell_type": "markdown",
   "id": "aa735bcf-630c-4f55-8466-6f434e2bb54c",
   "metadata": {},
   "source": [
    "We can make predictions:"
   ]
  },
  {
   "cell_type": "code",
   "execution_count": 12,
   "id": "7a77d1b4-d9c0-49c4-9819-8256aac44abb",
   "metadata": {},
   "outputs": [],
   "source": [
    "predictions = classifier.predict(xtest)"
   ]
  },
  {
   "cell_type": "markdown",
   "id": "68e0b3bd-37c2-4621-ae66-e49ad72b9993",
   "metadata": {},
   "source": [
    "Or check our classifier's accuracy on the test set:"
   ]
  },
  {
   "cell_type": "code",
   "execution_count": 13,
   "id": "f6240bbe-5444-49e5-943c-02c21d047694",
   "metadata": {},
   "outputs": [
    {
     "data": {
      "text/plain": [
       "0.9333333333333333"
      ]
     },
     "execution_count": 13,
     "metadata": {},
     "output_type": "execute_result"
    }
   ],
   "source": [
    "classifier.score(xtest, ytest)"
   ]
  },
  {
   "cell_type": "code",
   "execution_count": null,
   "id": "44c65629-4160-468e-8cab-4f41655ffe03",
   "metadata": {},
   "outputs": [],
   "source": []
  }
 ],
 "metadata": {
  "kernelspec": {
   "display_name": "Python 3 (ipykernel)",
   "language": "python",
   "name": "python3"
  },
  "language_info": {
   "codemirror_mode": {
    "name": "ipython",
    "version": 3
   },
   "file_extension": ".py",
   "mimetype": "text/x-python",
   "name": "python",
   "nbconvert_exporter": "python",
   "pygments_lexer": "ipython3",
   "version": "3.10.2"
  }
 },
 "nbformat": 4,
 "nbformat_minor": 5
}
